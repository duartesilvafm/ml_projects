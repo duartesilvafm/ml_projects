{
 "cells": [
  {
   "cell_type": "markdown",
   "metadata": {},
   "source": [
    "# Models from BigML"
   ]
  },
  {
   "cell_type": "code",
   "execution_count": null,
   "metadata": {},
   "outputs": [],
   "source": [
    "# Note: you need bigml package, therefore make sure you have pip installed it"
   ]
  },
  {
   "cell_type": "markdown",
   "metadata": {},
   "source": [
    "## Goalless"
   ]
  },
  {
   "cell_type": "code",
   "execution_count": null,
   "metadata": {},
   "outputs": [],
   "source": [
    "# Necessory imports from bigml\n",
    "from bigml.ensemble import Ensemble\n",
    "\n",
    "# Obtains the ensemble\n",
    "from bigml.api import BigML\n",
    "ensemble = Ensemble('ensemble/5ef99ad23514cd69ad0057f5',\n",
    "                    api=BigML(\"andrewlitkie\",\n",
    "                              \"14853a64a17a990a63afa12024e585945fcf1f5d\",\n",
    "                              domain=\"bigml.io\"))\n",
    "\n",
    "# Fill the desired input_data in next line with the team data\n",
    "input_data = {\"OnTarget_%\":0.529289, \"Short_%\":2.346795, \"Succ_Ratio\":-0.879030,\"Pass_Comp%\":0.824639,\n",
    "              \"Cards/Fouls\":0.040708,\"OppTackles_Successful%\":0.363965,\"Opp_Saves/Shots\":0.777468,\n",
    "              \"dummy_home\":1.0,\"Win_Pr()\":-1.229266,\"Btts_Pr()\":0.135515}\n",
    "\n",
    "# Make a prediction with probability\n",
    "ensemble.predict(input_data, full=True)"
   ]
  },
  {
   "cell_type": "markdown",
   "metadata": {},
   "source": [
    "## OneGoal"
   ]
  },
  {
   "cell_type": "code",
   "execution_count": 3,
   "metadata": {},
   "outputs": [],
   "source": [
    "# Necessory imports from bigml\n",
    "from bigml.logistic import LogisticRegression\n",
    "from bigml.api import BigML\n",
    "\n",
    "# Obtains the logistic regression\n",
    "logisticregression = LogisticRegression('logisticregression/5ef609973514cd6a271415f7',\n",
    "                  api=BigML(\"andrewlitkie\",\n",
    "                            \"14853a64a17a990a63afa12024e585945fcf1f5d\",\n",
    "                            domain=\"bigml.io\"))\n",
    "\n",
    "# Fill the desired input_data in next line with the team data\n",
    "input_data = {\n",
    "    \"OppTackles_Successful%\": 1,\n",
    "    \"Opp_Saves/Shots\": 1,\n",
    "    \"Pass_Comp%\": 1,\n",
    "    \"Cards/Fouls\": 1,\n",
    "    \"Short_%\": 1,\n",
    "    \"Succ_Ratio\": 1,\n",
    "    \"OnTarget_%\": 1,\n",
    "    \"dummy_home\": 1,\n",
    "    \"Win_Pr()\": 1,\n",
    "    \"Btts_Pr()\": 1\n",
    "            }\n",
    "\n",
    "# Make a prediction with probability\n",
    "logisticregression.predict(input_data, full=True)"
   ]
  },
  {
   "cell_type": "markdown",
   "metadata": {},
   "source": [
    "## TwoGoals"
   ]
  },
  {
   "cell_type": "code",
   "execution_count": null,
   "metadata": {},
   "outputs": [],
   "source": [
    "# Necessory imports from bigml\n",
    "from bigml.deepnet import Deepnet\n",
    "from bigml.api import BigML\n",
    "\n",
    "# Obtains the deepnet\n",
    "deepnet = Deepnet('deepnet/5ef99c953514cd69ad0059a1',\n",
    "                  api=BigML(\"andrewlitkie\",\n",
    "                            \"14853a64a17a990a63afa12024e585945fcf1f5d\",\n",
    "                            domain=\"bigml.io\"))\n",
    "\n",
    "# Fill the desired input_data in next line with the team data\n",
    "input_data = {\n",
    "    \"OppTackles_Successful%\": 1,\n",
    "    \"Opp_Saves/Shots\": 1,\n",
    "    \"Pass_Comp%\": 1,\n",
    "    \"Cards/Fouls\": 1,\n",
    "    \"Short_%\": 1,\n",
    "    \"Succ_Ratio\": 1,\n",
    "    \"OnTarget_%\": 1,\n",
    "    \"dummy_home\": 1,\n",
    "    \"Win_Pr()\": 1,\n",
    "    \"Btts_Pr()\": 1\n",
    "            }\n",
    "\n",
    "# Make a prediction with probability\n",
    "deepnet.predict(input_data, full=True)"
   ]
  },
  {
   "cell_type": "markdown",
   "metadata": {},
   "source": [
    "## ThreeGoalsPlus"
   ]
  },
  {
   "cell_type": "code",
   "execution_count": null,
   "metadata": {},
   "outputs": [],
   "source": [
    "# Necessory imports from bigml\n",
    "from bigml.ensemble import Ensemble\n",
    "\n",
    "# Obtains the ensemble\n",
    "from bigml.api import BigML\n",
    "ensemble = Ensemble('ensemble/5ef99da23514cd5802000f7e',\n",
    "                    api=BigML(\"andrewlitkie\",\n",
    "                              \"14853a64a17a990a63afa12024e585945fcf1f5d\",\n",
    "                              domain=\"bigml.io\"))\n",
    "\n",
    "# Fill the desired input_data in next line with the team data\n",
    "input_data = {\"OnTarget_%\":0.529289, \"Short_%\":2.346795, \"Succ_Ratio\":-0.879030,\"Pass_Comp%\":0.824639,\n",
    "              \"Cards/Fouls\":0.040708,\"OppTackles_Successful%\":0.363965,\"Opp_Saves/Shots\":0.777468,\n",
    "              \"dummy_home\":1.0,\"Win_Pr()\":-1.229266,\"Btts_Pr()\":0.135515}\n",
    "\n",
    "# Make a prediction with probability\n",
    "ensemble.predict(input_data, full=True)"
   ]
  }
 ],
 "metadata": {
  "kernelspec": {
   "display_name": "Python 3",
   "language": "python",
   "name": "python3"
  },
  "language_info": {
   "codemirror_mode": {
    "name": "ipython",
    "version": 3
   },
   "file_extension": ".py",
   "mimetype": "text/x-python",
   "name": "python",
   "nbconvert_exporter": "python",
   "pygments_lexer": "ipython3",
   "version": "3.7.4"
  }
 },
 "nbformat": 4,
 "nbformat_minor": 2
}
