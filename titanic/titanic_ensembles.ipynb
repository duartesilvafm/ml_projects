{
 "cells": [
  {
   "cell_type": "code",
   "execution_count": 21,
   "metadata": {},
   "outputs": [],
   "source": [
    "import pandas as pd\n",
    "import pandas.util.testing as tm\n",
    "import seaborn as sns\n",
    "import numpy as np\n",
    "import matplotlib.pyplot as plt\n",
    "\n",
    "# Read the titanic data\n",
    "\n",
    "titanic = pd.read_csv(\"titanic.csv\")\n",
    "\n",
    "# Make gender a dummy variable\n",
    "\n",
    "titanic[\"Gender\"] = titanic[\"Sex\"].apply(lambda d: 1 if d == \"female\" else 0)\n",
    "\n",
    "# Drop irrelevant variables, being sex and name\n",
    "\n",
    "titanic.drop([\"Name\", \"Sex\"], axis = 1, inplace = True)\n",
    "\n",
    "# Separate x and y\n",
    "\n",
    "y = titanic[\"Survived\"].values\n",
    "X = titanic[[\"Pclass\", \"Age\", \"Siblings/Spouses Aboard\", \"Parents/Children Aboard\", \"Fare\", \"Gender\"]].values"
   ]
  },
  {
   "cell_type": "markdown",
   "metadata": {},
   "source": [
    "# Ensemble Models"
   ]
  },
  {
   "cell_type": "code",
   "execution_count": 2,
   "metadata": {},
   "outputs": [],
   "source": [
    "# Dataframes for results\n",
    "    \n",
    "resall = pd.DataFrame()\n",
    "res_w1 = pd.DataFrame()"
   ]
  },
  {
   "cell_type": "code",
   "execution_count": 3,
   "metadata": {},
   "outputs": [],
   "source": [
    "from sklearn.model_selection import KFold\n",
    "from sklearn.model_selection import train_test_split\n",
    "from sklearn.model_selection import cross_val_score\n",
    "from sklearn.metrics import accuracy_score\n",
    "from sklearn import preprocessing"
   ]
  },
  {
   "cell_type": "code",
   "execution_count": 4,
   "metadata": {},
   "outputs": [],
   "source": [
    "# Determine parameters\n",
    "    \n",
    "seed = 7\n",
    "kfold = KFold(n_splits=10, random_state=seed, shuffle = True)\n",
    "num_trees = 100"
   ]
  },
  {
   "cell_type": "markdown",
   "metadata": {},
   "source": [
    "## Bagged Decision Trees"
   ]
  },
  {
   "cell_type": "code",
   "execution_count": 5,
   "metadata": {},
   "outputs": [
    {
     "name": "stdout",
     "output_type": "stream",
     "text": [
      "Bagged Decision Trees - Accuracy 81.959% std 3.460385\n"
     ]
    }
   ],
   "source": [
    "from sklearn.tree import DecisionTreeClassifier\n",
    "from sklearn.ensemble import BaggingClassifier\n",
    "\n",
    "learner = DecisionTreeClassifier(random_state=seed)\n",
    "model = BaggingClassifier(base_estimator=learner, n_estimators=num_trees, random_state=seed)\n",
    "\n",
    "results = cross_val_score(model, X, y, cv=kfold)\n",
    "res_w1[\"Res\"] = results\n",
    "res_w1[\"Type\"] = \"Bagged DT\"\n",
    "resall = pd.concat([resall,res_w1], ignore_index=True)\n",
    "                   \n",
    "print(f'Bagged Decision Trees - Accuracy {results.mean()*100:.3f}% std {results.std()*100:3f}')"
   ]
  },
  {
   "cell_type": "markdown",
   "metadata": {},
   "source": [
    "## Bagged Decision Trees"
   ]
  },
  {
   "cell_type": "code",
   "execution_count": 7,
   "metadata": {},
   "outputs": [
    {
     "name": "stdout",
     "output_type": "stream",
     "text": [
      "Random Forest - Accuracy 81.618% std 4.235826\n"
     ]
    }
   ],
   "source": [
    "from sklearn.ensemble import RandomForestClassifier\n",
    "\n",
    "seed = 7\n",
    "kfold = KFold(n_splits=10, random_state=seed, shuffle = True)\n",
    "\n",
    "num_trees = 100\n",
    "num_features = 3\n",
    "\n",
    "model = RandomForestClassifier(n_estimators = num_trees, max_features = num_features, random_state = seed)\n",
    "results = cross_val_score(model, X, y, cv = kfold)\n",
    "\n",
    "print(f'Random Forest - Accuracy {results.mean()*100:.3f}% std {results.std()*100:3f}')\n",
    "\n",
    "res_w1[\"Res\"] = results\n",
    "res_w1[\"Type\"] = \"Random Forest\"\n",
    "\n",
    "resall=pd.concat([resall,res_w1], ignore_index=True)"
   ]
  },
  {
   "cell_type": "markdown",
   "metadata": {},
   "source": [
    "## Extra Trees"
   ]
  },
  {
   "cell_type": "code",
   "execution_count": 8,
   "metadata": {},
   "outputs": [
    {
     "name": "stdout",
     "output_type": "stream",
     "text": [
      "Extra Trees - Accuracy 79.934% std 3.469128\n"
     ]
    }
   ],
   "source": [
    "from sklearn.ensemble import ExtraTreesClassifier\n",
    "\n",
    "seed = 7\n",
    "\n",
    "kfold = KFold(n_splits = 10, random_state = seed, shuffle = True)\n",
    "\n",
    "num_trees = 300\n",
    "num_features = 5\n",
    "\n",
    "model = ExtraTreesClassifier(n_estimators = num_trees, max_features = num_features, random_state = seed)\n",
    "\n",
    "results = cross_val_score(model, X, y, cv = kfold)\n",
    "\n",
    "print(f'Extra Trees - Accuracy {results.mean()*100:.3f}% std {results.std()*100:3f}')\n",
    "\n",
    "res_w1[\"Res\"] = results\n",
    "res_w1[\"Type\"] = \"Extra Trees\"\n",
    "\n",
    "resall=pd.concat([resall,res_w1], ignore_index=True)"
   ]
  },
  {
   "cell_type": "markdown",
   "metadata": {},
   "source": [
    "## Ada Boost"
   ]
  },
  {
   "cell_type": "code",
   "execution_count": 9,
   "metadata": {},
   "outputs": [
    {
     "name": "stdout",
     "output_type": "stream",
     "text": [
      "AdaBoost - Accuracy 80.956% std 3.535510\n"
     ]
    }
   ],
   "source": [
    "from sklearn.ensemble import AdaBoostClassifier\n",
    "\n",
    "seed=7\n",
    "\n",
    "kfold=KFold(n_splits=10, random_state=seed, shuffle = True)\n",
    "\n",
    "num_trees=30\n",
    "\n",
    "model=AdaBoostClassifier(n_estimators=num_trees, random_state=seed)\n",
    "\n",
    "results=cross_val_score(model, X, y, cv=kfold)\n",
    "\n",
    "print(f'AdaBoost - Accuracy {results.mean()*100:.3f}% std {results.std()*100:3f}')\n",
    "\n",
    "res_w1[\"Res\"]=results\n",
    "res_w1[\"Type\"]=\"AdaBoost\"\n",
    "\n",
    "resall=pd.concat([resall,res_w1], ignore_index=True)"
   ]
  },
  {
   "cell_type": "markdown",
   "metadata": {},
   "source": [
    "## Stochastic Gradient Boosting"
   ]
  },
  {
   "cell_type": "code",
   "execution_count": 17,
   "metadata": {},
   "outputs": [
    {
     "name": "stdout",
     "output_type": "stream",
     "text": [
      "Stochastic Gradient Boosting - Accuracy 83.424% std 3.133107\n"
     ]
    }
   ],
   "source": [
    "from sklearn.ensemble import GradientBoostingClassifier\n",
    "\n",
    "seed=7\n",
    "num_trees=30\n",
    "\n",
    "model=GradientBoostingClassifier(n_estimators=num_trees, random_state=seed)\n",
    "\n",
    "results=cross_val_score(model, X, y, cv=kfold)\n",
    "\n",
    "print(f'Stochastic Gradient Boosting - Accuracy {results.mean()*100:.3f}% std {results.std()*100:3f}')\n",
    "\n",
    "res_w1[\"Res\"]=results\n",
    "res_w1[\"Type\"]=\"GradientBoosting\"\n",
    "\n",
    "resall=pd.concat([resall,res_w1], ignore_index=True)"
   ]
  },
  {
   "cell_type": "markdown",
   "metadata": {},
   "source": [
    "## Voting Ensemble"
   ]
  },
  {
   "cell_type": "code",
   "execution_count": 11,
   "metadata": {},
   "outputs": [
    {
     "name": "stdout",
     "output_type": "stream",
     "text": [
      "Voting Ensemble (log,cart,rfc) - Accuracy 81.278% std 3.808667\n"
     ]
    }
   ],
   "source": [
    "from sklearn.ensemble import VotingClassifier\n",
    "from sklearn.ensemble import RandomForestClassifier\n",
    "from sklearn.linear_model import LogisticRegression\n",
    "from sklearn.tree import DecisionTreeClassifier\n",
    "from sklearn.svm import SVC\n",
    "\n",
    "seed = 7\n",
    "\n",
    "kfold = KFold(n_splits=10, random_state=seed, shuffle = True)\n",
    "\n",
    "# create the models\n",
    "estimators = []\n",
    "model1 = LogisticRegression(solver=\"liblinear\")\n",
    "estimators.append((\"logistic\", model1))\n",
    "\n",
    "model2 = DecisionTreeClassifier(random_state=seed)\n",
    "estimators.append((\"cart\", model2))\n",
    "\n",
    "model3=SVC(gamma=\"auto\")\n",
    "estimators.append((\"svm\", model3))\n",
    "\n",
    "num_trees = 100\n",
    "num_features = 3\n",
    "\n",
    "model4 = RandomForestClassifier(n_estimators=num_trees, max_features=num_features, random_state=seed)\n",
    "estimators.append((\"rfc\", model4))\n",
    "\n",
    "model = VotingClassifier(estimators)\n",
    "\n",
    "results = cross_val_score(model, X, y, cv=kfold)\n",
    "\n",
    "print(f'Voting Ensemble (log,cart,rfc) - Accuracy {results.mean()*100:.3f}% std {results.std()*100:3f}')\n",
    "\n",
    "res_w1[\"Res\"]=results\n",
    "res_w1[\"Type\"]=\"Voting\"\n",
    "\n",
    "resall=pd.concat([resall,res_w1], ignore_index=True)"
   ]
  },
  {
   "cell_type": "markdown",
   "metadata": {},
   "source": [
    "# Algorithm Comparison"
   ]
  },
  {
   "cell_type": "code",
   "execution_count": 13,
   "metadata": {},
   "outputs": [
    {
     "data": {
      "text/plain": [
       "<matplotlib.axes._subplots.AxesSubplot at 0x22249ad1948>"
      ]
     },
     "execution_count": 13,
     "metadata": {},
     "output_type": "execute_result"
    },
    {
     "data": {
      "image/png": "[encoded data removed]",
      "text/plain": [
       "<Figure size 1080x648 with 1 Axes>"
      ]
     },
     "metadata": {
      "needs_background": "light"
     },
     "output_type": "display_data"
    }
   ],
   "source": [
    "# Now let's compare them all\n",
    "\n",
    "resall = pd.concat([resall,res_w1], ignore_index=True)\n",
    "\n",
    "plt.figure(figsize=(15,9))\n",
    "\n",
    "sns.boxplot(data=resall, x=\"Type\", y=\"Res\")\n",
    "\n",
    "sns.swarmplot(data=resall, x=\"Type\", y=\"Res\", color=\"royalblue\")"
   ]
  },
  {
   "cell_type": "markdown",
   "metadata": {},
   "source": [
    "# Deep-dive Random Forest"
   ]
  },
  {
   "cell_type": "markdown",
   "metadata": {},
   "source": [
    "## Feature Importance"
   ]
  },
  {
   "cell_type": "code",
   "execution_count": 16,
   "metadata": {},
   "outputs": [
    {
     "name": "stdout",
     "output_type": "stream",
     "text": [
      "Pclass           0.0925\n",
      "Age              0.2759\n",
      "Siblings/Spouses Aboard  0.0494\n",
      "Parents/Children Aboard  0.0308\n",
      "Fare             0.2744\n",
      "Gender           0.2769\n"
     ]
    },
    {
     "data": {
      "text/plain": [
       "<matplotlib.axes._subplots.AxesSubplot at 0x2224855c708>"
      ]
     },
     "execution_count": 16,
     "metadata": {},
     "output_type": "execute_result"
    },
    {
     "data": {
      "image/png": "[encoded data removed]",
      "text/plain": [
       "<Figure size 1080x648 with 1 Axes>"
      ]
     },
     "metadata": {
      "needs_background": "light"
     },
     "output_type": "display_data"
    }
   ],
   "source": [
    "# Random Forest\n",
    "\n",
    "plt.figure(figsize=(15,9))\n",
    "\n",
    "from sklearn.ensemble import RandomForestClassifier\n",
    "\n",
    "seed = 7\n",
    "\n",
    "num_trees = 100\n",
    "num_features = 3\n",
    "\n",
    "model = RandomForestClassifier(n_estimators = num_trees, max_features = num_features, random_state = seed)\n",
    "model.fit(X,y)\n",
    "\n",
    "for name, importance in zip(titanic.columns[1:], model.feature_importances_):\n",
    "    print(f'{name:15s}  {importance:.4f}')\n",
    "\n",
    "sns.barplot(x = titanic.columns[1:], y = model.feature_importances_)"
   ]
  },
  {
   "cell_type": "markdown",
   "metadata": {},
   "source": [
    "## Tuning Random Forest Models"
   ]
  },
  {
   "cell_type": "code",
   "execution_count": 20,
   "metadata": {},
   "outputs": [
    {
     "data": {
      "text/html": [
       "<div>\n",
       "<style scoped>\n",
       "    .dataframe tbody tr th:only-of-type {\n",
       "        vertical-align: middle;\n",
       "    }\n",
       "\n",
       "    .dataframe tbody tr th {\n",
       "        vertical-align: top;\n",
       "    }\n",
       "\n",
       "    .dataframe thead th {\n",
       "        text-align: right;\n",
       "    }\n",
       "</style>\n",
       "<table border=\"1\" class=\"dataframe\">\n",
       "  <thead>\n",
       "    <tr style=\"text-align: right;\">\n",
       "      <th></th>\n",
       "      <th>mean_fit_time</th>\n",
       "      <th>std_fit_time</th>\n",
       "      <th>mean_score_time</th>\n",
       "      <th>std_score_time</th>\n",
       "      <th>param_max_depth</th>\n",
       "      <th>param_n_estimators</th>\n",
       "      <th>params</th>\n",
       "      <th>split0_test_score</th>\n",
       "      <th>split1_test_score</th>\n",
       "      <th>split2_test_score</th>\n",
       "      <th>split3_test_score</th>\n",
       "      <th>split4_test_score</th>\n",
       "      <th>mean_test_score</th>\n",
       "      <th>std_test_score</th>\n",
       "      <th>rank_test_score</th>\n",
       "    </tr>\n",
       "  </thead>\n",
       "  <tbody>\n",
       "    <tr>\n",
       "      <th>14</th>\n",
       "      <td>2.075060</td>\n",
       "      <td>0.109642</td>\n",
       "      <td>0.129456</td>\n",
       "      <td>0.020940</td>\n",
       "      <td>10</td>\n",
       "      <td>300</td>\n",
       "      <td>{'max_depth': 10, 'n_estimators': 300}</td>\n",
       "      <td>0.786517</td>\n",
       "      <td>0.825843</td>\n",
       "      <td>0.881356</td>\n",
       "      <td>0.841808</td>\n",
       "      <td>0.836158</td>\n",
       "      <td>0.834336</td>\n",
       "      <td>0.030426</td>\n",
       "      <td>1</td>\n",
       "    </tr>\n",
       "    <tr>\n",
       "      <th>13</th>\n",
       "      <td>0.966288</td>\n",
       "      <td>0.069530</td>\n",
       "      <td>0.056267</td>\n",
       "      <td>0.007657</td>\n",
       "      <td>10</td>\n",
       "      <td>150</td>\n",
       "      <td>{'max_depth': 10, 'n_estimators': 150}</td>\n",
       "      <td>0.786517</td>\n",
       "      <td>0.814607</td>\n",
       "      <td>0.870056</td>\n",
       "      <td>0.841808</td>\n",
       "      <td>0.836158</td>\n",
       "      <td>0.829829</td>\n",
       "      <td>0.027962</td>\n",
       "      <td>2</td>\n",
       "    </tr>\n",
       "    <tr>\n",
       "      <th>12</th>\n",
       "      <td>0.592537</td>\n",
       "      <td>0.005229</td>\n",
       "      <td>0.034386</td>\n",
       "      <td>0.006251</td>\n",
       "      <td>10</td>\n",
       "      <td>100</td>\n",
       "      <td>{'max_depth': 10, 'n_estimators': 100}</td>\n",
       "      <td>0.792135</td>\n",
       "      <td>0.820225</td>\n",
       "      <td>0.875706</td>\n",
       "      <td>0.824859</td>\n",
       "      <td>0.830508</td>\n",
       "      <td>0.828687</td>\n",
       "      <td>0.026968</td>\n",
       "      <td>3</td>\n",
       "    </tr>\n",
       "    <tr>\n",
       "      <th>11</th>\n",
       "      <td>0.303220</td>\n",
       "      <td>0.007660</td>\n",
       "      <td>0.021877</td>\n",
       "      <td>0.007654</td>\n",
       "      <td>10</td>\n",
       "      <td>50</td>\n",
       "      <td>{'max_depth': 10, 'n_estimators': 50}</td>\n",
       "      <td>0.780899</td>\n",
       "      <td>0.797753</td>\n",
       "      <td>0.864407</td>\n",
       "      <td>0.841808</td>\n",
       "      <td>0.824859</td>\n",
       "      <td>0.821945</td>\n",
       "      <td>0.029920</td>\n",
       "      <td>4</td>\n",
       "    </tr>\n",
       "    <tr>\n",
       "      <th>8</th>\n",
       "      <td>0.800244</td>\n",
       "      <td>0.011696</td>\n",
       "      <td>0.046888</td>\n",
       "      <td>0.000002</td>\n",
       "      <td>5</td>\n",
       "      <td>150</td>\n",
       "      <td>{'max_depth': 5, 'n_estimators': 150}</td>\n",
       "      <td>0.797753</td>\n",
       "      <td>0.837079</td>\n",
       "      <td>0.824859</td>\n",
       "      <td>0.802260</td>\n",
       "      <td>0.841808</td>\n",
       "      <td>0.820752</td>\n",
       "      <td>0.017876</td>\n",
       "      <td>5</td>\n",
       "    </tr>\n",
       "  </tbody>\n",
       "</table>\n",
       "</div>"
      ],
      "text/plain": [
       "    mean_fit_time  std_fit_time  mean_score_time  std_score_time  \\\n",
       "14       2.075060      0.109642         0.129456        0.020940   \n",
       "13       0.966288      0.069530         0.056267        0.007657   \n",
       "12       0.592537      0.005229         0.034386        0.006251   \n",
       "11       0.303220      0.007660         0.021877        0.007654   \n",
       "8        0.800244      0.011696         0.046888        0.000002   \n",
       "\n",
       "   param_max_depth param_n_estimators                                  params  \\\n",
       "14              10                300  {'max_depth': 10, 'n_estimators': 300}   \n",
       "13              10                150  {'max_depth': 10, 'n_estimators': 150}   \n",
       "12              10                100  {'max_depth': 10, 'n_estimators': 100}   \n",
       "11              10                 50   {'max_depth': 10, 'n_estimators': 50}   \n",
       "8                5                150   {'max_depth': 5, 'n_estimators': 150}   \n",
       "\n",
       "    split0_test_score  split1_test_score  split2_test_score  \\\n",
       "14           0.786517           0.825843           0.881356   \n",
       "13           0.786517           0.814607           0.870056   \n",
       "12           0.792135           0.820225           0.875706   \n",
       "11           0.780899           0.797753           0.864407   \n",
       "8            0.797753           0.837079           0.824859   \n",
       "\n",
       "    split3_test_score  split4_test_score  mean_test_score  std_test_score  \\\n",
       "14           0.841808           0.836158         0.834336        0.030426   \n",
       "13           0.841808           0.836158         0.829829        0.027962   \n",
       "12           0.824859           0.830508         0.828687        0.026968   \n",
       "11           0.841808           0.824859         0.821945        0.029920   \n",
       "8            0.802260           0.841808         0.820752        0.017876   \n",
       "\n",
       "    rank_test_score  \n",
       "14                1  \n",
       "13                2  \n",
       "12                3  \n",
       "11                4  \n",
       "8                 5  "
      ]
     },
     "execution_count": 20,
     "metadata": {},
     "output_type": "execute_result"
    }
   ],
   "source": [
    "from sklearn.model_selection import GridSearchCV\n",
    "\n",
    "rf = RandomForestClassifier()\n",
    "param = {'n_estimators': [10, 50, 100, 150, 300],\n",
    "        'max_depth': [3, 5, 10, 15, 20, None]}\n",
    "\n",
    "gs = GridSearchCV(rf, param, cv=5, n_jobs=-1)\n",
    "gs_fit = gs.fit(X, y)\n",
    "pd.DataFrame(gs_fit.cv_results_).sort_values('mean_test_score', ascending=False)[0:5]"
   ]
  },
  {
   "cell_type": "code",
   "execution_count": null,
   "metadata": {},
   "outputs": [],
   "source": []
  }
 ],
 "metadata": {
  "kernelspec": {
   "display_name": "Python 3",
   "language": "python",
   "name": "python3"
  },
  "language_info": {
   "codemirror_mode": {
    "name": "ipython",
    "version": 3
   },
   "file_extension": ".py",
   "mimetype": "text/x-python",
   "name": "python",
   "nbconvert_exporter": "python",
   "pygments_lexer": "ipython3",
   "version": "3.7.5"
  }
 },
 "nbformat": 4,
 "nbformat_minor": 2
}
